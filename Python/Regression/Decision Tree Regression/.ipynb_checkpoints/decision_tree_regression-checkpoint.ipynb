{
 "cells": [
  {
   "cell_type": "markdown",
   "id": "0922effc",
   "metadata": {},
   "source": [
    "# Decision Tree Regression"
   ]
  },
  {
   "cell_type": "markdown",
   "id": "19758047",
   "metadata": {},
   "source": [
    "## Importing the Libraries"
   ]
  },
  {
   "cell_type": "markdown",
   "id": "e336ac45",
   "metadata": {},
   "source": [
    "## Importing the Dataset"
   ]
  },
  {
   "cell_type": "markdown",
   "id": "cef9a0a5",
   "metadata": {},
   "source": [
    "## Training the Decision Tree Regression model on the whole datset"
   ]
  },
  {
   "cell_type": "markdown",
   "id": "991c3726",
   "metadata": {},
   "source": [
    "## Predicting new result"
   ]
  },
  {
   "cell_type": "markdown",
   "id": "63e20dc1",
   "metadata": {},
   "source": [
    "## Visualizing the Decision Tree Regression results (higher resolution)"
   ]
  }
 ],
 "metadata": {
  "kernelspec": {
   "display_name": "Python 3 (ipykernel)",
   "language": "python",
   "name": "python3"
  },
  "language_info": {
   "codemirror_mode": {
    "name": "ipython",
    "version": 3
   },
   "file_extension": ".py",
   "mimetype": "text/x-python",
   "name": "python",
   "nbconvert_exporter": "python",
   "pygments_lexer": "ipython3",
   "version": "3.11.5"
  }
 },
 "nbformat": 4,
 "nbformat_minor": 5
}
