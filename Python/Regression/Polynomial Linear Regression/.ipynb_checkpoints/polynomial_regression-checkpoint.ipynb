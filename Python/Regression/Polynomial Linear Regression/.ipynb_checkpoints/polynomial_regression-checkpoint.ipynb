{
 "cells": [
  {
   "cell_type": "markdown",
   "id": "1cbef953",
   "metadata": {},
   "source": [
    "   # Polynomial Regression"
   ]
  },
  {
   "cell_type": "markdown",
   "id": "525f9f68",
   "metadata": {},
   "source": [
    "## Importing the libraries"
   ]
  },
  {
   "cell_type": "markdown",
   "id": "48746099",
   "metadata": {},
   "source": [
    "## Importing dataset"
   ]
  },
  {
   "cell_type": "markdown",
   "id": "ea67a204",
   "metadata": {},
   "source": [
    "## Training the Linear Regression model on the whole dataset"
   ]
  },
  {
   "cell_type": "markdown",
   "id": "4c600734",
   "metadata": {},
   "source": [
    "## Training the polynomial Regression model on the whole dataset"
   ]
  },
  {
   "cell_type": "markdown",
   "id": "b52e7d47",
   "metadata": {},
   "source": [
    "## Visualizing the Linear Regression results"
   ]
  },
  {
   "cell_type": "markdown",
   "id": "fe4f5557",
   "metadata": {},
   "source": [
    "## Visualizing the Polynomial Regression results"
   ]
  },
  {
   "cell_type": "markdown",
   "id": "12748ab6",
   "metadata": {},
   "source": [
    "## Visualising the Polynomial Regression results (for higher resolution and smoother curve)"
   ]
  },
  {
   "cell_type": "markdown",
   "id": "5322bdc3",
   "metadata": {},
   "source": [
    "## Predicting a new result with Linear Regression"
   ]
  },
  {
   "cell_type": "markdown",
   "id": "09369460",
   "metadata": {},
   "source": [
    "## Predicting a new result with Polynomial Regression"
   ]
  }
 ],
 "metadata": {
  "kernelspec": {
   "display_name": "Python 3 (ipykernel)",
   "language": "python",
   "name": "python3"
  },
  "language_info": {
   "codemirror_mode": {
    "name": "ipython",
    "version": 3
   },
   "file_extension": ".py",
   "mimetype": "text/x-python",
   "name": "python",
   "nbconvert_exporter": "python",
   "pygments_lexer": "ipython3",
   "version": "3.11.5"
  }
 },
 "nbformat": 4,
 "nbformat_minor": 5
}
